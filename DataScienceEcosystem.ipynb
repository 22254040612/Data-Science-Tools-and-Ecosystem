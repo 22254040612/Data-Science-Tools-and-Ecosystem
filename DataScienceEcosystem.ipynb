{
 "cells": [
  {
   "cell_type": "markdown",
   "id": "4acc4e3d-c72f-40e6-a28c-6b6258355f87",
   "metadata": {},
   "source": [
    "# Heading\n",
    "## Heading\n",
    "### Heading"
   ]
  },
  {
   "cell_type": "markdown",
   "id": "9a329bc9-8688-40f9-87fb-0468ed2517f3",
   "metadata": {},
   "source": [
    "# 2 Data Science Tools and Ecosystem"
   ]
  },
  {
   "cell_type": "markdown",
   "id": "31c0f4f3-5e91-40a8-895c-ab12b10ea568",
   "metadata": {},
   "source": [
    "## 3 In this notebook, Data Science Tools and Ecosystem are summarized."
   ]
  },
  {
   "cell_type": "markdown",
   "id": "1ed7bc8e-d68a-41ef-b4fc-77b354a0314a",
   "metadata": {
    "tags": []
   },
   "source": [
    "**Objective**\n",
    "\n",
    "Introduced to a Data Scientist's toolkit that consists of a variety of tools, languages, libraries, APIs, data sets, models, etc, to be knowledgeable about the kinds of tools Data Scientists use.\n",
    "\n",
    "1. Languages of Data Science -- Python, R, SQL, & Scala\n",
    "2. Libraries of Data Science -- Pandas, NumPy, Scipy & Matplotlib. Also the REST API\n",
    "3. Jupyter Notebook and JupyterLab. Learnt on how to work with different kernels and the basic Jupyter architecture\n",
    "4. RStudio and GitHub. We learnt about the different R visualization packages\n",
    "6. IBM Watson Studio, Learnt about and working with data science tools from IBM such as Watson Studio"
   ]
  },
  {
   "cell_type": "markdown",
   "id": "77f5bafd-2169-4eab-9051-6eda310208e2",
   "metadata": {},
   "source": [
    "## 4 Some of the popular languages that Data Scientists use are:\n",
    "1. Python\n",
    "2. R\n",
    "3. Julia\n",
    "4. SQL\n",
    "5. Scala"
   ]
  },
  {
   "cell_type": "markdown",
   "id": "45bd0e7d-6e49-454e-8556-2a4caa9da29d",
   "metadata": {},
   "source": [
    "## 5 Some of the commonly used libraries used by Data Scientists include:\n",
    "\n",
    "1. Pandas\n",
    "2. NumPy\n",
    "3. Scipy\n",
    "4. Matplotlib"
   ]
  },
  {
   "cell_type": "markdown",
   "id": "72e5f559-f091-4aef-83e5-7e69f8886367",
   "metadata": {
    "tags": []
   },
   "source": [
    "|Data Science Tools|\n",
    "|------------------|\n",
    "|Jupyter|\n",
    "|Apache Spark|\n",
    "|RStudio|"
   ]
  },
  {
   "cell_type": "markdown",
   "id": "035c630c-015a-43f9-977e-41a195a1cb4c",
   "metadata": {},
   "source": [
    "### 7 Below are a few examples of evaluating arithmetic expressions in Python."
   ]
  },
  {
   "cell_type": "code",
   "execution_count": 14,
   "id": "3cd66db2-e213-4634-b941-e1c3d220528e",
   "metadata": {
    "tags": []
   },
   "outputs": [
    {
     "name": "stdout",
     "output_type": "stream",
     "text": [
      "17\n"
     ]
    }
   ],
   "source": [
    "8# This a simple arithmetic expression to mutiply then add integers\n",
    "\n",
    "print(3*4+5)"
   ]
  },
  {
   "cell_type": "code",
   "execution_count": 5,
   "id": "8fa02c8a-84ea-4a02-8313-0f8af5ebe0a2",
   "metadata": {
    "tags": []
   },
   "outputs": [
    {
     "name": "stdout",
     "output_type": "stream",
     "text": [
      "200 Minutes= 3.3333333333333335 hours\n"
     ]
    }
   ],
   "source": [
    "9# This will convert 200 minutes to hours by diving by 60\n",
    "\n",
    "x = 200\n",
    "y = x/60\n",
    "print(\"200 Minutes=\", y,\"hours\")"
   ]
  },
  {
   "cell_type": "markdown",
   "id": "9e5994eb-496b-41ef-ba10-541f62a93b99",
   "metadata": {
    "tags": []
   },
   "source": [
    "## Author\n",
    "Girish Venkatesh"
   ]
  },
  {
   "cell_type": "code",
   "execution_count": null,
   "id": "4c3aaa3f-ae29-4f38-b49a-df19c8971166",
   "metadata": {},
   "outputs": [],
   "source": []
  }
 ],
 "metadata": {
  "kernelspec": {
   "display_name": "Python",
   "language": "python",
   "name": "conda-env-python-py"
  },
  "language_info": {
   "codemirror_mode": {
    "name": "ipython",
    "version": 3
   },
   "file_extension": ".py",
   "mimetype": "text/x-python",
   "name": "python",
   "nbconvert_exporter": "python",
   "pygments_lexer": "ipython3",
   "version": "3.7.12"
  }
 },
 "nbformat": 4,
 "nbformat_minor": 5
}
